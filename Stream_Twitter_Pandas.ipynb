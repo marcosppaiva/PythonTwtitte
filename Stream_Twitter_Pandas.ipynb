{
 "cells": [
  {
   "cell_type": "markdown",
   "metadata": {},
   "source": [
    "## Preparing a connection to Twitter"
   ]
  },
  {
   "cell_type": "code",
   "execution_count": null,
   "metadata": {},
   "outputs": [],
   "source": [
    "# Install the tweepy package\n",
    "# Using pip\n",
    "#!pip install tweepy\n",
    "# Using conda\n",
    "#conda install -c conda-forge tweepy"
   ]
  },
  {
   "cell_type": "code",
   "execution_count": 1,
   "metadata": {},
   "outputs": [],
   "source": [
    "# Imports\n",
    "from tweepy.streaming import StreamListener\n",
    "from tweepy import OAuthHandler\n",
    "from tweepy import Stream\n",
    "import tweepy\n",
    "from datetime import datetime\n",
    "import json\n",
    "import pandas as pd\n",
    "import numpy as np"
   ]
  },
  {
   "cell_type": "code",
   "execution_count": 2,
   "metadata": {},
   "outputs": [],
   "source": [
    "# Consumer Key\n",
    "consumer_key = \"xxxx\"\n",
    "# Consumer Secret \n",
    "consumer_secret = \"xxxx\"\n",
    "# Access Token\n",
    "access_token = \"xxxx\"\n",
    "# Access Token Secret\n",
    "access_token_secret = \"xxxx\""
   ]
  },
  {
   "cell_type": "code",
   "execution_count": 3,
   "metadata": {},
   "outputs": [],
   "source": [
    "# Creating the authentication keys\n",
    "auth = OAuthHandler(consumer_key, consumer_secret)\n",
    "auth.set_access_token(access_token, access_token_secret)"
   ]
  },
  {
   "cell_type": "code",
   "execution_count": 4,
   "metadata": {},
   "outputs": [],
   "source": [
    "api = tweepy.API(auth)"
   ]
  },
  {
   "cell_type": "code",
   "execution_count": 5,
   "metadata": {},
   "outputs": [],
   "source": [
    "result = api.search(q='Bolsonaro', count=100, locale='Brasil')"
   ]
  },
  {
   "cell_type": "code",
   "execution_count": 6,
   "metadata": {},
   "outputs": [],
   "source": [
    "json_data = [r._json for r in result]"
   ]
  },
  {
   "cell_type": "code",
   "execution_count": 7,
   "metadata": {},
   "outputs": [],
   "source": [
    "data = pd.DataFrame(data=[tweet['text'] for tweet in json_data], columns=['tweets'])\n",
    "data['created_at'] = np.array([tweet['created_at'] for tweet in json_data])\n",
    "data['id'] = np.array([tweet['id'] for tweet in json_data])"
   ]
  },
  {
   "cell_type": "code",
   "execution_count": 8,
   "metadata": {},
   "outputs": [],
   "source": [
    "columns = ['id', 'created_at', 'tweets']"
   ]
  },
  {
   "cell_type": "code",
   "execution_count": 9,
   "metadata": {},
   "outputs": [],
   "source": [
    "data = data.reindex(columns=columns)"
   ]
  },
  {
   "cell_type": "code",
   "execution_count": 10,
   "metadata": {},
   "outputs": [
    {
     "data": {
      "text/html": [
       "<div>\n",
       "<style scoped>\n",
       "    .dataframe tbody tr th:only-of-type {\n",
       "        vertical-align: middle;\n",
       "    }\n",
       "\n",
       "    .dataframe tbody tr th {\n",
       "        vertical-align: top;\n",
       "    }\n",
       "\n",
       "    .dataframe thead th {\n",
       "        text-align: right;\n",
       "    }\n",
       "</style>\n",
       "<table border=\"1\" class=\"dataframe\">\n",
       "  <thead>\n",
       "    <tr style=\"text-align: right;\">\n",
       "      <th></th>\n",
       "      <th>id</th>\n",
       "      <th>created_at</th>\n",
       "      <th>tweets</th>\n",
       "    </tr>\n",
       "  </thead>\n",
       "  <tbody>\n",
       "    <tr>\n",
       "      <td>0</td>\n",
       "      <td>1264270692347973633</td>\n",
       "      <td>Sat May 23 19:03:16 +0000 2020</td>\n",
       "      <td>RT @CrisMenshova: @miriamleitao Tambem acho, g...</td>\n",
       "    </tr>\n",
       "    <tr>\n",
       "      <td>1</td>\n",
       "      <td>1264270691953717248</td>\n",
       "      <td>Sat May 23 19:03:16 +0000 2020</td>\n",
       "      <td>RT @palmeriodoria: Brasil vive 4 hecatombes si...</td>\n",
       "    </tr>\n",
       "    <tr>\n",
       "      <td>2</td>\n",
       "      <td>1264270691383336960</td>\n",
       "      <td>Sat May 23 19:03:16 +0000 2020</td>\n",
       "      <td>RT @eliezerbrasil: Eu (re)assisti todos os JN’...</td>\n",
       "    </tr>\n",
       "    <tr>\n",
       "      <td>3</td>\n",
       "      <td>1264270690787692545</td>\n",
       "      <td>Sat May 23 19:03:16 +0000 2020</td>\n",
       "      <td>RT @DonaReginaa: 3) Recado de Bolsonaro ao Min...</td>\n",
       "    </tr>\n",
       "    <tr>\n",
       "      <td>4</td>\n",
       "      <td>1264270690649346048</td>\n",
       "      <td>Sat May 23 19:03:16 +0000 2020</td>\n",
       "      <td>RT @TenNascimento: Mesmo com a confusão das Ta...</td>\n",
       "    </tr>\n",
       "  </tbody>\n",
       "</table>\n",
       "</div>"
      ],
      "text/plain": [
       "                    id                      created_at  \\\n",
       "0  1264270692347973633  Sat May 23 19:03:16 +0000 2020   \n",
       "1  1264270691953717248  Sat May 23 19:03:16 +0000 2020   \n",
       "2  1264270691383336960  Sat May 23 19:03:16 +0000 2020   \n",
       "3  1264270690787692545  Sat May 23 19:03:16 +0000 2020   \n",
       "4  1264270690649346048  Sat May 23 19:03:16 +0000 2020   \n",
       "\n",
       "                                              tweets  \n",
       "0  RT @CrisMenshova: @miriamleitao Tambem acho, g...  \n",
       "1  RT @palmeriodoria: Brasil vive 4 hecatombes si...  \n",
       "2  RT @eliezerbrasil: Eu (re)assisti todos os JN’...  \n",
       "3  RT @DonaReginaa: 3) Recado de Bolsonaro ao Min...  \n",
       "4  RT @TenNascimento: Mesmo com a confusão das Ta...  "
      ]
     },
     "execution_count": 10,
     "metadata": {},
     "output_type": "execute_result"
    }
   ],
   "source": [
    "data.head()"
   ]
  },
  {
   "cell_type": "code",
   "execution_count": 11,
   "metadata": {},
   "outputs": [],
   "source": [
    "data.to_csv('bolsonaro_tweets.csv', encoding='UTF-8',index=False)"
   ]
  }
 ],
 "metadata": {
  "kernelspec": {
   "display_name": "Python 3",
   "language": "python",
   "name": "python3"
  },
  "language_info": {
   "codemirror_mode": {
    "name": "ipython",
    "version": 3
   },
   "file_extension": ".py",
   "mimetype": "text/x-python",
   "name": "python",
   "nbconvert_exporter": "python",
   "pygments_lexer": "ipython3",
   "version": "3.7.4"
  }
 },
 "nbformat": 4,
 "nbformat_minor": 1
}
